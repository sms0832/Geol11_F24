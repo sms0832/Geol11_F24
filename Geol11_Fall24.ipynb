{
  "cells": [
    {
      "cell_type": "markdown",
      "metadata": {
        "id": "view-in-github",
        "colab_type": "text"
      },
      "source": [
        "<a href=\"https://colab.research.google.com/github/sms0832/Geol11_F24/blob/main/Geol11_Fall24.ipynb\" target=\"_parent\"><img src=\"https://colab.research.google.com/assets/colab-badge.svg\" alt=\"Open In Colab\"/></a>"
      ]
    },
    {
      "cell_type": "markdown",
      "id": "09116232-ccd0-4fca-a6af-20dbf19a435b",
      "metadata": {
        "id": "09116232-ccd0-4fca-a6af-20dbf19a435b"
      },
      "source": [
        "# Introduction to python\n",
        "We will redo some of the analysis we previously did in Excel and Google Sheets"
      ]
    },
    {
      "cell_type": "code",
      "execution_count": null,
      "id": "d6dbd4c9-aedf-419d-a050-1303d4f09b34",
      "metadata": {
        "tags": [],
        "id": "d6dbd4c9-aedf-419d-a050-1303d4f09b34"
      },
      "outputs": [],
      "source": [
        "# Don't edit this cell\n",
        "# This cell imports the packages that we will need to import, wrangle, and plot data\n",
        "import numpy as np\n",
        "import pandas as pd\n",
        "import matplotlib.pyplot as plt"
      ]
    },
    {
      "cell_type": "code",
      "execution_count": null,
      "id": "9cb4f007-a62f-4617-91e0-420bccdb80c9",
      "metadata": {
        "tags": [],
        "id": "9cb4f007-a62f-4617-91e0-420bccdb80c9"
      },
      "outputs": [],
      "source": [
        "url = \"https://raw.githubusercontent.com/sms0832/Geol11_F24/refs/heads/main/SacTemps.csv\"  # same csv file you used previously\n",
        "df = pd.read_csv(url) # read in the data to a dataframe\n",
        "df['Date'] = pd.to_datetime(df['Date'],format='mixed') #convert the date column from text to datetime\n",
        "df.head() #show the first 5 rows of the dataframe"
      ]
    },
    {
      "cell_type": "code",
      "execution_count": null,
      "id": "67bb8166-e6b4-477d-b873-f80dcf4b8261",
      "metadata": {
        "tags": [],
        "id": "67bb8166-e6b4-477d-b873-f80dcf4b8261"
      },
      "outputs": [],
      "source": [
        "df.describe() # descriptive statistics of the data columns"
      ]
    },
    {
      "cell_type": "code",
      "execution_count": null,
      "id": "7b209e43-9c33-414b-983e-b541934c53b7",
      "metadata": {
        "tags": [],
        "id": "7b209e43-9c33-414b-983e-b541934c53b7"
      },
      "outputs": [],
      "source": [
        "df.Max.hist() #histogram of the Max temperature\n",
        "plt.show()"
      ]
    },
    {
      "cell_type": "code",
      "execution_count": null,
      "id": "96d367f2-46e5-4986-99b6-ca5c3451676e",
      "metadata": {
        "tags": [],
        "id": "96d367f2-46e5-4986-99b6-ca5c3451676e"
      },
      "outputs": [],
      "source": [
        "plt.boxplot([df.Min,df.Max],labels=['MinT','MaxT'])\n",
        "plt.show()"
      ]
    },
    {
      "cell_type": "code",
      "execution_count": null,
      "id": "3f43ec9e-4228-41e7-a5bc-2eee962534b8",
      "metadata": {
        "tags": [],
        "id": "3f43ec9e-4228-41e7-a5bc-2eee962534b8"
      },
      "outputs": [],
      "source": [
        "plt.figure(figsize=[8,4],dpi=200)\n",
        "plt.plot(df.Date, df.Max,'r^',markerfacecolor='none',label='Max')\n",
        "plt.plot(df.Date, df.Min,'bv',markerfacecolor='none',label='Min')\n",
        "\n",
        "plt.title('Maximum and Minimimum daily temperature in Sacramento')\n",
        "plt.xlabel('Year')\n",
        "plt.ylabel('Temperature (F)')\n",
        "\n",
        "plt.legend()\n",
        "plt.show()\n",
        "plt.close()"
      ]
    },
    {
      "cell_type": "code",
      "execution_count": null,
      "id": "97aee9c5-fb04-49c9-87ce-7dc961e5154d",
      "metadata": {
        "tags": [],
        "id": "97aee9c5-fb04-49c9-87ce-7dc961e5154d"
      },
      "outputs": [],
      "source": [
        "df['Max_C']=df['Max']-32 * (5/9)"
      ]
    },
    {
      "cell_type": "code",
      "execution_count": null,
      "id": "062fb0d3-2063-437f-9a21-daf4137279a1",
      "metadata": {
        "tags": [],
        "id": "062fb0d3-2063-437f-9a21-daf4137279a1"
      },
      "outputs": [],
      "source": [
        "df.head()"
      ]
    },
    {
      "cell_type": "markdown",
      "id": "6e75e697-7dce-48dc-8a7b-f2aaaf535f38",
      "metadata": {
        "id": "6e75e697-7dce-48dc-8a7b-f2aaaf535f38"
      },
      "source": [
        "## Try converting the minimum temperature to celsius"
      ]
    },
    {
      "cell_type": "code",
      "execution_count": null,
      "id": "4626dfff-f489-4da3-9947-72fd67965099",
      "metadata": {
        "id": "4626dfff-f489-4da3-9947-72fd67965099"
      },
      "outputs": [],
      "source": []
    },
    {
      "cell_type": "markdown",
      "id": "2eda1be2-d442-4088-9a04-3d3f337b0a68",
      "metadata": {
        "id": "2eda1be2-d442-4088-9a04-3d3f337b0a68"
      },
      "source": [
        "# Creating a temperature model"
      ]
    },
    {
      "cell_type": "code",
      "execution_count": null,
      "id": "1377cc6d-6a5b-4b98-937c-05dc220ca83d",
      "metadata": {
        "tags": [],
        "id": "1377cc6d-6a5b-4b98-937c-05dc220ca83d"
      },
      "outputs": [],
      "source": [
        "days=np.arange(0,2120,1)\n",
        "Tmax=0\n",
        "Tmin=100\n",
        "temp=((Tmax-Tmin)/2) * np.sin(((2*3.14*days)/365)+(3.14/2))+((Tmax-Tmin)/2)+Tmin"
      ]
    },
    {
      "cell_type": "code",
      "execution_count": null,
      "id": "42b65d5f-d573-4ece-9f8d-796a78c46a1d",
      "metadata": {
        "tags": [],
        "id": "42b65d5f-d573-4ece-9f8d-796a78c46a1d"
      },
      "outputs": [],
      "source": [
        "plt.plot(days,temp)\n",
        "plt.show()"
      ]
    },
    {
      "cell_type": "markdown",
      "id": "8a937d3c-3a0a-4a97-92e4-03ab5374e761",
      "metadata": {
        "id": "8a937d3c-3a0a-4a97-92e4-03ab5374e761"
      },
      "source": [
        "# Put all the plots together"
      ]
    },
    {
      "cell_type": "code",
      "execution_count": null,
      "id": "50a0b1d1-8b9d-4392-83b4-07033da1b043",
      "metadata": {
        "tags": [],
        "id": "50a0b1d1-8b9d-4392-83b4-07033da1b043"
      },
      "outputs": [],
      "source": []
    },
    {
      "cell_type": "markdown",
      "id": "8c828fd7-79c5-4ad5-9b77-8c2b23e68926",
      "metadata": {
        "id": "8c828fd7-79c5-4ad5-9b77-8c2b23e68926"
      },
      "source": [
        "# Reading from Excel file"
      ]
    },
    {
      "cell_type": "code",
      "execution_count": null,
      "id": "8c468ed3-b542-4415-b76d-634595d60ff8",
      "metadata": {
        "tags": [],
        "id": "8c468ed3-b542-4415-b76d-634595d60ff8"
      },
      "outputs": [],
      "source": [
        "url2='https://github.com/sms0832/Geol11_F24/raw/refs/heads/main/DataSets1.xlsx'\n",
        "df2 = pd.read_excel(url2,sheet_name=0) #you can load different sheets by refering to the name or number of the tab\n",
        "df2.head()"
      ]
    },
    {
      "cell_type": "code",
      "execution_count": null,
      "id": "3ab1410e-c9aa-4119-8eaf-00452fca8fcb",
      "metadata": {
        "tags": [],
        "id": "3ab1410e-c9aa-4119-8eaf-00452fca8fcb"
      },
      "outputs": [],
      "source": [
        "df2.columns"
      ]
    },
    {
      "cell_type": "code",
      "execution_count": null,
      "id": "f65b1f4d-5d8a-4e14-af91-1f8f230e6ffd",
      "metadata": {
        "tags": [],
        "id": "f65b1f4d-5d8a-4e14-af91-1f8f230e6ffd"
      },
      "outputs": [],
      "source": [
        "plt.plot(df2.Year,df2['Mass (GT)'])\n",
        "plt.show()"
      ]
    },
    {
      "cell_type": "markdown",
      "id": "fcb98d07-36f7-4294-8d85-731bd8f5633b",
      "metadata": {
        "id": "fcb98d07-36f7-4294-8d85-731bd8f5633b"
      },
      "source": [
        "# Linear Regression"
      ]
    },
    {
      "cell_type": "code",
      "execution_count": null,
      "id": "ea6f5682-3eac-4261-9f12-398e6764ceaa",
      "metadata": {
        "tags": [],
        "id": "ea6f5682-3eac-4261-9f12-398e6764ceaa"
      },
      "outputs": [],
      "source": [
        "url2='https://github.com/sms0832/Geol11_F24/raw/refs/heads/main/DataSets2.xlsx'\n",
        "Ant_Ice = pd.read_excel(url2,sheet_name=0)\n",
        "Ant_Ice.head()"
      ]
    },
    {
      "cell_type": "code",
      "execution_count": null,
      "id": "0618e9fc-56fe-41af-aeb5-6d821125b96c",
      "metadata": {
        "tags": [],
        "id": "0618e9fc-56fe-41af-aeb5-6d821125b96c"
      },
      "outputs": [],
      "source": [
        "url3='https://github.com/sms0832/Geol11_F24/raw/refs/heads/main/DataSets2.xlsx'\n",
        "CO2= pd.read_excel(url3,sheet_name=3)\n",
        "CO2.head()"
      ]
    },
    {
      "cell_type": "code",
      "execution_count": null,
      "id": "01d47b6d-a108-4550-bac5-b070266e662c",
      "metadata": {
        "tags": [],
        "id": "01d47b6d-a108-4550-bac5-b070266e662c"
      },
      "outputs": [],
      "source": [
        "print('Minimum', Ant_Ice.Year.min())\n",
        "print('Maximum', Ant_Ice.Year.max())"
      ]
    },
    {
      "cell_type": "code",
      "execution_count": null,
      "id": "32bd8243-185e-407b-ac5a-73461cf01c62",
      "metadata": {
        "tags": [],
        "id": "32bd8243-185e-407b-ac5a-73461cf01c62"
      },
      "outputs": [],
      "source": [
        "print('Minimum', CO2.Year.min())\n",
        "print('Maximum', CO2.Year.max())"
      ]
    },
    {
      "cell_type": "code",
      "execution_count": null,
      "id": "bdcfd44e-f8dc-422c-8772-6a55d56b2454",
      "metadata": {
        "tags": [],
        "id": "bdcfd44e-f8dc-422c-8772-6a55d56b2454"
      },
      "outputs": [],
      "source": [
        "CO2_slice=CO2[(CO2.Year >= Ant_Ice.Year.min()) & (CO2.Year <= Ant_Ice.Year.max())]"
      ]
    },
    {
      "cell_type": "code",
      "execution_count": null,
      "id": "00f30dd7-1600-44a8-8369-f863c60b3425",
      "metadata": {
        "tags": [],
        "id": "00f30dd7-1600-44a8-8369-f863c60b3425"
      },
      "outputs": [],
      "source": [
        "plt.scatter(CO2_slice['Average_CO2_ppm'],Ant_Ice['MeanMass(GT)'])\n",
        "plt.show()"
      ]
    },
    {
      "cell_type": "code",
      "execution_count": null,
      "id": "547038ec-a8f9-45c1-b1e1-3501db2d2681",
      "metadata": {
        "tags": [],
        "id": "547038ec-a8f9-45c1-b1e1-3501db2d2681"
      },
      "outputs": [],
      "source": [
        "x=CO2_slice['Average_CO2_ppm']\n",
        "y=Ant_Ice['MeanMass(GT)']\n",
        "\n",
        "m, b = np.polyfit(x, y, 1)\n",
        "\n",
        "plt.plot(x, y, 'yo', x, m*x+b, '--k')\n",
        "plt.show()"
      ]
    },
    {
      "cell_type": "code",
      "execution_count": null,
      "id": "b277532b-ce69-4f8e-a893-e6008004876c",
      "metadata": {
        "id": "b277532b-ce69-4f8e-a893-e6008004876c"
      },
      "outputs": [],
      "source": []
    },
    {
      "cell_type": "markdown",
      "source": [
        "# Try loading one of the datasets we used and plotting it up."
      ],
      "metadata": {
        "id": "NIlRwEG9QDr-"
      },
      "id": "NIlRwEG9QDr-"
    },
    {
      "cell_type": "code",
      "source": [
        "# Your code goes here\n",
        "\n"
      ],
      "metadata": {
        "id": "mQDUJSziQLFu"
      },
      "id": "mQDUJSziQLFu",
      "execution_count": null,
      "outputs": []
    }
  ],
  "metadata": {
    "kernelspec": {
      "display_name": "Python 3 (ipykernel)",
      "language": "python",
      "name": "python3"
    },
    "language_info": {
      "codemirror_mode": {
        "name": "ipython",
        "version": 3
      },
      "file_extension": ".py",
      "mimetype": "text/x-python",
      "name": "python",
      "nbconvert_exporter": "python",
      "pygments_lexer": "ipython3",
      "version": "3.11.8"
    },
    "colab": {
      "provenance": [],
      "include_colab_link": true
    }
  },
  "nbformat": 4,
  "nbformat_minor": 5
}